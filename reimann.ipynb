{
 "cells": [
  {
   "cell_type": "code",
   "execution_count": null,
   "metadata": {},
   "outputs": [],
   "source": [
    "%%capture install\n",
    "%pip install manim\n",
    "%pip install IPython --upgrade"
   ]
  },
  {
   "cell_type": "code",
   "execution_count": 2,
   "metadata": {},
   "outputs": [
    {
     "data": {
      "text/html": [
       "<pre style=\"white-space:pre;overflow-x:auto;line-height:normal;font-family:Menlo,'DejaVu Sans Mono',consolas,'Courier New',monospace\">Manim Community <span style=\"color: #008000; text-decoration-color: #008000\">v0.17.2</span>\n",
       "\n",
       "</pre>\n"
      ],
      "text/plain": [
       "Manim Community \u001b[32mv0.\u001b[0m\u001b[32m17.2\u001b[0m\n",
       "\n"
      ]
     },
     "metadata": {},
     "output_type": "display_data"
    }
   ],
   "source": [
    "from manim import *\n",
    "import numpy as np\n",
    "import scipy.integrate as integrate"
   ]
  },
  {
   "cell_type": "code",
   "execution_count": 3,
   "metadata": {},
   "outputs": [
    {
     "name": "stderr",
     "output_type": "stream",
     "text": [
      "                                                                                                                                                                                                                                                                                  \r"
     ]
    },
    {
     "data": {
      "text/html": [
       "<video src=\"media\\jupyter\\Day2@2023-01-23@10-03-41.mp4\" controls autoplay loop style=\"max-width: 60%;\"  >\n",
       "      Your browser does not support the <code>video</code> element.\n",
       "    </video>"
      ],
      "text/plain": [
       "<IPython.core.display.Video object>"
      ]
     },
     "metadata": {},
     "output_type": "display_data"
    }
   ],
   "source": [
    "%%manim -qh -v WARNING Day2\n",
    "\n",
    "class Day2(MovingCameraScene):\n",
    "    def construct(self):\n",
    "        ax = Axes(\n",
    "            x_range=[-5, 5, 1], y_range=[-2, 16, 2], axis_config={\"include_tip\": False}, x_axis_config={\"numbers_to_include\": np.arange(-5, 5.1, 2)},\n",
    "            y_axis_config={\"numbers_to_include\": np.arange(0, 16, 2)}\n",
    "        )\n",
    "        parabola = ax.plot(lambda x: x**2).set_color(RED)\n",
    "\n",
    "        labels = ax.get_axis_labels(x_label=\"x\", y_label=MathTex(r\"f(x)\"))\n",
    "\n",
    "        graph_label = ax.get_graph_label(\n",
    "            parabola, MathTex(r\"x^2\"), x_val=4, direction=LEFT / 2\n",
    "        )\n",
    "\n",
    "        chart = VGroup(ax, parabola, labels, graph_label)\n",
    "        self.play(Create(chart))\n",
    "        \n",
    "        bar_count = 5\n",
    "        bar_count_var = Variable(bar_count, Text(\"# of bars\", font_size=24), var_type=Integer).shift(RIGHT * 8 + UP*2.5)\n",
    "        bar_count_tracker = bar_count_var.tracker\n",
    "        self.play(Write(bar_count_var))\n",
    "        self.wait(3)\n",
    "\n",
    "        def maths():\n",
    "            heights = [round(x**2, 3) for x in np.arange(0, 5, 5/bar_count)]\n",
    "            dx = round(5/bar_count, 2)\n",
    "            total = sum(dx*i for i in heights)\n",
    "            maths = [rf\"{dx}\" + r\"\\cdot\" + rf\"{h}\" for h in heights]\n",
    "            maths.append(r'\\text{Total } = ' + rf'{total}')\n",
    "            math_tex = MathTex(r'\\\\'.join(maths)).scale(0.6).shift(RIGHT*9.5 + DOWN*1.2)\n",
    "            self.play(Write(math_tex))\n",
    "            return math_tex\n",
    "\n",
    "        def make_bars():\n",
    "            bars = ax.get_riemann_rectangles(\n",
    "                graph=parabola,\n",
    "                x_range=[0, 5],\n",
    "                dx=5/bar_count,\n",
    "            )\n",
    "            self.play(Create(bars), run_time=5)\n",
    "            return bars\n",
    "\n",
    "        self.play(self.camera.frame.animate.shift(RIGHT*5))\n",
    "\n",
    "        TOP_RIGHT = [9.5, 3.5, 0]\n",
    "\n",
    "        x = Text(\n",
    "            \"Area under curve can be approximated\\nby area of rectangles.\",\n",
    "            font_size=16\n",
    "        ).move_to(TOP_RIGHT)\n",
    "        self.play(Write(x))\n",
    "\n",
    "        bars = make_bars()\n",
    "\n",
    "        # draw lines from top of rectangle\n",
    "        GRAPH_ORIGIN = np.array([0, -2, 0])\n",
    "\n",
    "        answer = round(integrate.quad(lambda x: x**2, 0, 5)[0], 2)\n",
    "        self.play(Write(Text(\"Actual:\", font_size=24).shift(RIGHT*7.5 + UP*1.5)))\n",
    "        self.play(Write(Text(\"Estimated:\", font_size=24).shift(RIGHT*9.5 + UP*1.5)))\n",
    "        actual = MathTex(r'\\int_{0}^{5} x^2 \\, dx =' + rf'{answer}').scale(0.6).shift(RIGHT * 7.5)\n",
    "        self.play(Write(actual))\n",
    "\n",
    "        math_tex = maths()\n",
    "\n",
    "        self.wait(5)\n",
    "\n",
    "        self.play(Uncreate(bars), Unwrite(math_tex), run_time=3)\n",
    "\n",
    "        bar_count = 10\n",
    "        self.play(bar_count_tracker.animate.set_value(bar_count))\n",
    "        bars = make_bars()\n",
    "\n",
    "        math_tex = maths()\n",
    "\n",
    "        self.wait(5)\n"
   ]
  }
 ],
 "metadata": {
  "kernelspec": {
   "display_name": "Python 3",
   "language": "python",
   "name": "python3"
  },
  "language_info": {
   "codemirror_mode": {
    "name": "ipython",
    "version": 3
   },
   "file_extension": ".py",
   "mimetype": "text/x-python",
   "name": "python",
   "nbconvert_exporter": "python",
   "pygments_lexer": "ipython3",
   "version": "3.10.2"
  },
  "orig_nbformat": 4,
  "vscode": {
   "interpreter": {
    "hash": "369f2c481f4da34e4445cda3fffd2e751bd1c4d706f27375911949ba6bb62e1c"
   }
  }
 },
 "nbformat": 4,
 "nbformat_minor": 2
}

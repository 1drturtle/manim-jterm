{
 "cells": [
  {
   "cell_type": "code",
   "execution_count": null,
   "metadata": {},
   "outputs": [],
   "source": [
    "%%capture install\n",
    "%pip install manim manim-physics\n",
    "%pip install IPython --upgrade"
   ]
  },
  {
   "cell_type": "code",
   "execution_count": 1,
   "metadata": {},
   "outputs": [
    {
     "data": {
      "text/html": [
       "<pre style=\"white-space:pre;overflow-x:auto;line-height:normal;font-family:Menlo,'DejaVu Sans Mono',consolas,'Courier New',monospace\">Manim Community <span style=\"color: #008000; text-decoration-color: #008000\">v0.17.2</span>\n",
       "\n",
       "</pre>\n"
      ],
      "text/plain": [
       "Manim Community \u001b[32mv0.\u001b[0m\u001b[32m17.2\u001b[0m\n",
       "\n"
      ]
     },
     "metadata": {},
     "output_type": "display_data"
    }
   ],
   "source": [
    "from manim import *\n",
    "\n",
    "from manim_physics import *"
   ]
  },
  {
   "cell_type": "code",
   "execution_count": 2,
   "metadata": {},
   "outputs": [
    {
     "name": "stderr",
     "output_type": "stream",
     "text": [
      "                                                         \r"
     ]
    },
    {
     "ename": "KeyboardInterrupt",
     "evalue": "",
     "output_type": "error",
     "traceback": [
      "\u001b[1;31m---------------------------------------------------------------------------\u001b[0m",
      "\u001b[1;31mKeyboardInterrupt\u001b[0m                         Traceback (most recent call last)",
      "Cell \u001b[1;32mIn[2], line 1\u001b[0m\n\u001b[1;32m----> 1\u001b[0m get_ipython()\u001b[39m.\u001b[39;49mrun_cell_magic(\u001b[39m'\u001b[39;49m\u001b[39mmanim\u001b[39;49m\u001b[39m'\u001b[39;49m, \u001b[39m'\u001b[39;49m\u001b[39m-ql -v WARNING Waves\u001b[39;49m\u001b[39m'\u001b[39;49m, \u001b[39m'\u001b[39;49m\u001b[39m\\n\u001b[39;49;00m\u001b[39mclass Waves(ThreeDScene):\u001b[39;49m\u001b[39m\\n\u001b[39;49;00m\u001b[39m    def construct(self):\u001b[39;49m\u001b[39m\\n\u001b[39;49;00m\u001b[39m        self.set_camera_orientation(60 * DEGREES, -45 * DEGREES)\u001b[39;49m\u001b[39m\\n\u001b[39;49;00m\u001b[39m        wave = RadialWave(\u001b[39;49m\u001b[39m\\n\u001b[39;49;00m\u001b[39m            LEFT * 2 + DOWN * 5,  # Two source of waves\u001b[39;49m\u001b[39m\\n\u001b[39;49;00m\u001b[39m            RIGHT * 2 + DOWN * 5,\u001b[39;49m\u001b[39m\\n\u001b[39;49;00m\u001b[39m            checkerboard_colors=[BLUE_D],\u001b[39;49m\u001b[39m\\n\u001b[39;49;00m\u001b[39m            stroke_width=0,\u001b[39;49m\u001b[39m\\n\u001b[39;49;00m\u001b[39m        )\u001b[39;49m\u001b[39m\\n\u001b[39;49;00m\u001b[39m        self.add(wave)\u001b[39;49m\u001b[39m\\n\u001b[39;49;00m\u001b[39m        wave.start_wave()\u001b[39;49m\u001b[39m\\n\u001b[39;49;00m\u001b[39m        self.wait()\u001b[39;49m\u001b[39m\\n\u001b[39;49;00m\u001b[39m        wave.stop_wave()\u001b[39;49m\u001b[39m\\n\u001b[39;49;00m\u001b[39m'\u001b[39;49m)\n",
      "File \u001b[1;32mc:\\Python310\\lib\\site-packages\\IPython\\core\\interactiveshell.py:2422\u001b[0m, in \u001b[0;36mInteractiveShell.run_cell_magic\u001b[1;34m(self, magic_name, line, cell)\u001b[0m\n\u001b[0;32m   2420\u001b[0m \u001b[39mwith\u001b[39;00m \u001b[39mself\u001b[39m\u001b[39m.\u001b[39mbuiltin_trap:\n\u001b[0;32m   2421\u001b[0m     args \u001b[39m=\u001b[39m (magic_arg_s, cell)\n\u001b[1;32m-> 2422\u001b[0m     result \u001b[39m=\u001b[39m fn(\u001b[39m*\u001b[39margs, \u001b[39m*\u001b[39m\u001b[39m*\u001b[39mkwargs)\n\u001b[0;32m   2423\u001b[0m \u001b[39mreturn\u001b[39;00m result\n",
      "File \u001b[1;32m~\\AppData\\Roaming\\Python\\Python310\\site-packages\\manim\\utils\\ipython_magic.py:141\u001b[0m, in \u001b[0;36mManimMagic.manim\u001b[1;34m(self, line, cell, local_ns)\u001b[0m\n\u001b[0;32m    139\u001b[0m     SceneClass \u001b[39m=\u001b[39m local_ns[config[\u001b[39m\"\u001b[39m\u001b[39mscene_names\u001b[39m\u001b[39m\"\u001b[39m][\u001b[39m0\u001b[39m]]\n\u001b[0;32m    140\u001b[0m     scene \u001b[39m=\u001b[39m SceneClass(renderer\u001b[39m=\u001b[39mrenderer)\n\u001b[1;32m--> 141\u001b[0m     scene\u001b[39m.\u001b[39;49mrender()\n\u001b[0;32m    142\u001b[0m \u001b[39mfinally\u001b[39;00m:\n\u001b[0;32m    143\u001b[0m     \u001b[39m# Shader cache becomes invalid as the context is destroyed\u001b[39;00m\n\u001b[0;32m    144\u001b[0m     shader_program_cache\u001b[39m.\u001b[39mclear()\n",
      "File \u001b[1;32m~\\AppData\\Roaming\\Python\\Python310\\site-packages\\manim\\scene\\scene.py:223\u001b[0m, in \u001b[0;36mScene.render\u001b[1;34m(self, preview)\u001b[0m\n\u001b[0;32m    221\u001b[0m \u001b[39mself\u001b[39m\u001b[39m.\u001b[39msetup()\n\u001b[0;32m    222\u001b[0m \u001b[39mtry\u001b[39;00m:\n\u001b[1;32m--> 223\u001b[0m     \u001b[39mself\u001b[39;49m\u001b[39m.\u001b[39;49mconstruct()\n\u001b[0;32m    224\u001b[0m \u001b[39mexcept\u001b[39;00m EndSceneEarlyException:\n\u001b[0;32m    225\u001b[0m     \u001b[39mpass\u001b[39;00m\n",
      "File \u001b[1;32m<string>:13\u001b[0m, in \u001b[0;36mconstruct\u001b[1;34m(self)\u001b[0m\n",
      "File \u001b[1;32m~\\AppData\\Roaming\\Python\\Python310\\site-packages\\manim\\scene\\scene.py:1074\u001b[0m, in \u001b[0;36mScene.wait\u001b[1;34m(self, duration, stop_condition, frozen_frame)\u001b[0m\n\u001b[0;32m   1048\u001b[0m \u001b[39mdef\u001b[39;00m \u001b[39mwait\u001b[39m(\n\u001b[0;32m   1049\u001b[0m     \u001b[39mself\u001b[39m,\n\u001b[0;32m   1050\u001b[0m     duration: \u001b[39mfloat\u001b[39m \u001b[39m=\u001b[39m DEFAULT_WAIT_TIME,\n\u001b[0;32m   1051\u001b[0m     stop_condition: Callable[[], \u001b[39mbool\u001b[39m] \u001b[39m|\u001b[39m \u001b[39mNone\u001b[39;00m \u001b[39m=\u001b[39m \u001b[39mNone\u001b[39;00m,\n\u001b[0;32m   1052\u001b[0m     frozen_frame: \u001b[39mbool\u001b[39m \u001b[39m|\u001b[39m \u001b[39mNone\u001b[39;00m \u001b[39m=\u001b[39m \u001b[39mNone\u001b[39;00m,\n\u001b[0;32m   1053\u001b[0m ):\n\u001b[0;32m   1054\u001b[0m     \u001b[39m\"\"\"Plays a \"no operation\" animation.\u001b[39;00m\n\u001b[0;32m   1055\u001b[0m \n\u001b[0;32m   1056\u001b[0m \u001b[39m    Parameters\u001b[39;00m\n\u001b[1;32m   (...)\u001b[0m\n\u001b[0;32m   1072\u001b[0m \u001b[39m    :class:`.Wait`, :meth:`.should_mobjects_update`\u001b[39;00m\n\u001b[0;32m   1073\u001b[0m \u001b[39m    \"\"\"\u001b[39;00m\n\u001b[1;32m-> 1074\u001b[0m     \u001b[39mself\u001b[39;49m\u001b[39m.\u001b[39;49mplay(\n\u001b[0;32m   1075\u001b[0m         Wait(\n\u001b[0;32m   1076\u001b[0m             run_time\u001b[39m=\u001b[39;49mduration,\n\u001b[0;32m   1077\u001b[0m             stop_condition\u001b[39m=\u001b[39;49mstop_condition,\n\u001b[0;32m   1078\u001b[0m             frozen_frame\u001b[39m=\u001b[39;49mfrozen_frame,\n\u001b[0;32m   1079\u001b[0m         )\n\u001b[0;32m   1080\u001b[0m     )\n",
      "File \u001b[1;32m~\\AppData\\Roaming\\Python\\Python310\\site-packages\\manim\\scene\\scene.py:1033\u001b[0m, in \u001b[0;36mScene.play\u001b[1;34m(self, subcaption, subcaption_duration, subcaption_offset, *args, **kwargs)\u001b[0m\n\u001b[0;32m   1030\u001b[0m     \u001b[39mreturn\u001b[39;00m\n\u001b[0;32m   1032\u001b[0m start_time \u001b[39m=\u001b[39m \u001b[39mself\u001b[39m\u001b[39m.\u001b[39mrenderer\u001b[39m.\u001b[39mtime\n\u001b[1;32m-> 1033\u001b[0m \u001b[39mself\u001b[39m\u001b[39m.\u001b[39mrenderer\u001b[39m.\u001b[39mplay(\u001b[39mself\u001b[39m, \u001b[39m*\u001b[39margs, \u001b[39m*\u001b[39m\u001b[39m*\u001b[39mkwargs)\n\u001b[0;32m   1034\u001b[0m run_time \u001b[39m=\u001b[39m \u001b[39mself\u001b[39m\u001b[39m.\u001b[39mrenderer\u001b[39m.\u001b[39mtime \u001b[39m-\u001b[39m start_time\n\u001b[0;32m   1035\u001b[0m \u001b[39mif\u001b[39;00m subcaption:\n",
      "File \u001b[1;32m~\\AppData\\Roaming\\Python\\Python310\\site-packages\\manim\\renderer\\cairo_renderer.py:104\u001b[0m, in \u001b[0;36mCairoRenderer.play\u001b[1;34m(self, scene, *args, **kwargs)\u001b[0m\n\u001b[0;32m    102\u001b[0m     \u001b[39mself\u001b[39m\u001b[39m.\u001b[39mfreeze_current_frame(scene\u001b[39m.\u001b[39mduration)\n\u001b[0;32m    103\u001b[0m \u001b[39melse\u001b[39;00m:\n\u001b[1;32m--> 104\u001b[0m     scene\u001b[39m.\u001b[39;49mplay_internal()\n\u001b[0;32m    105\u001b[0m \u001b[39mself\u001b[39m\u001b[39m.\u001b[39mfile_writer\u001b[39m.\u001b[39mend_animation(\u001b[39mnot\u001b[39;00m \u001b[39mself\u001b[39m\u001b[39m.\u001b[39mskip_animations)\n\u001b[0;32m    107\u001b[0m \u001b[39mself\u001b[39m\u001b[39m.\u001b[39mnum_plays \u001b[39m+\u001b[39m\u001b[39m=\u001b[39m \u001b[39m1\u001b[39m\n",
      "File \u001b[1;32m~\\AppData\\Roaming\\Python\\Python310\\site-packages\\manim\\scene\\scene.py:1198\u001b[0m, in \u001b[0;36mScene.play_internal\u001b[1;34m(self, skip_rendering)\u001b[0m\n\u001b[0;32m   1193\u001b[0m \u001b[39mself\u001b[39m\u001b[39m.\u001b[39mtime_progression \u001b[39m=\u001b[39m \u001b[39mself\u001b[39m\u001b[39m.\u001b[39m_get_animation_time_progression(\n\u001b[0;32m   1194\u001b[0m     \u001b[39mself\u001b[39m\u001b[39m.\u001b[39manimations,\n\u001b[0;32m   1195\u001b[0m     \u001b[39mself\u001b[39m\u001b[39m.\u001b[39mduration,\n\u001b[0;32m   1196\u001b[0m )\n\u001b[0;32m   1197\u001b[0m \u001b[39mfor\u001b[39;00m t \u001b[39min\u001b[39;00m \u001b[39mself\u001b[39m\u001b[39m.\u001b[39mtime_progression:\n\u001b[1;32m-> 1198\u001b[0m     \u001b[39mself\u001b[39;49m\u001b[39m.\u001b[39;49mupdate_to_time(t)\n\u001b[0;32m   1199\u001b[0m     \u001b[39mif\u001b[39;00m \u001b[39mnot\u001b[39;00m skip_rendering \u001b[39mand\u001b[39;00m \u001b[39mnot\u001b[39;00m \u001b[39mself\u001b[39m\u001b[39m.\u001b[39mskip_animation_preview:\n\u001b[0;32m   1200\u001b[0m         \u001b[39mself\u001b[39m\u001b[39m.\u001b[39mrenderer\u001b[39m.\u001b[39mrender(\u001b[39mself\u001b[39m, t, \u001b[39mself\u001b[39m\u001b[39m.\u001b[39mmoving_mobjects)\n",
      "File \u001b[1;32m~\\AppData\\Roaming\\Python\\Python310\\site-packages\\manim\\scene\\scene.py:1432\u001b[0m, in \u001b[0;36mScene.update_to_time\u001b[1;34m(self, t)\u001b[0m\n\u001b[0;32m   1430\u001b[0m     alpha \u001b[39m=\u001b[39m t \u001b[39m/\u001b[39m animation\u001b[39m.\u001b[39mrun_time\n\u001b[0;32m   1431\u001b[0m     animation\u001b[39m.\u001b[39minterpolate(alpha)\n\u001b[1;32m-> 1432\u001b[0m \u001b[39mself\u001b[39;49m\u001b[39m.\u001b[39;49mupdate_mobjects(dt)\n\u001b[0;32m   1433\u001b[0m \u001b[39mself\u001b[39m\u001b[39m.\u001b[39mupdate_meshes(dt)\n\u001b[0;32m   1434\u001b[0m \u001b[39mself\u001b[39m\u001b[39m.\u001b[39mupdate_self(dt)\n",
      "File \u001b[1;32m~\\AppData\\Roaming\\Python\\Python310\\site-packages\\manim\\scene\\scene.py:342\u001b[0m, in \u001b[0;36mScene.update_mobjects\u001b[1;34m(self, dt)\u001b[0m\n\u001b[0;32m    333\u001b[0m \u001b[39m\"\"\"\u001b[39;00m\n\u001b[0;32m    334\u001b[0m \u001b[39mBegins updating all mobjects in the Scene.\u001b[39;00m\n\u001b[0;32m    335\u001b[0m \n\u001b[1;32m   (...)\u001b[0m\n\u001b[0;32m    339\u001b[0m \u001b[39m    Change in time between updates. Defaults (mostly) to 1/frames_per_second\u001b[39;00m\n\u001b[0;32m    340\u001b[0m \u001b[39m\"\"\"\u001b[39;00m\n\u001b[0;32m    341\u001b[0m \u001b[39mfor\u001b[39;00m mobject \u001b[39min\u001b[39;00m \u001b[39mself\u001b[39m\u001b[39m.\u001b[39mmobjects:\n\u001b[1;32m--> 342\u001b[0m     mobject\u001b[39m.\u001b[39;49mupdate(dt)\n",
      "File \u001b[1;32m~\\AppData\\Roaming\\Python\\Python310\\site-packages\\manim\\mobject\\mobject.py:839\u001b[0m, in \u001b[0;36mMobject.update\u001b[1;34m(self, dt, recursive)\u001b[0m\n\u001b[0;32m    837\u001b[0m parameters \u001b[39m=\u001b[39m get_parameters(updater)\n\u001b[0;32m    838\u001b[0m \u001b[39mif\u001b[39;00m \u001b[39m\"\u001b[39m\u001b[39mdt\u001b[39m\u001b[39m\"\u001b[39m \u001b[39min\u001b[39;00m parameters:\n\u001b[1;32m--> 839\u001b[0m     updater(\u001b[39mself\u001b[39;49m, dt)\n\u001b[0;32m    840\u001b[0m \u001b[39melse\u001b[39;00m:\n\u001b[0;32m    841\u001b[0m     updater(\u001b[39mself\u001b[39m)\n",
      "File \u001b[1;32mc:\\Python310\\lib\\site-packages\\manim_physics\\wave.py:95\u001b[0m, in \u001b[0;36mRadialWave._update_wave\u001b[1;34m(self, mob, dt)\u001b[0m\n\u001b[0;32m     92\u001b[0m \u001b[39mdef\u001b[39;00m \u001b[39m_update_wave\u001b[39m(\u001b[39mself\u001b[39m, mob: Mobject, dt: \u001b[39mfloat\u001b[39m) \u001b[39m-\u001b[39m\u001b[39m>\u001b[39m \u001b[39mNone\u001b[39;00m:\n\u001b[0;32m     93\u001b[0m     \u001b[39mself\u001b[39m\u001b[39m.\u001b[39mtime \u001b[39m+\u001b[39m\u001b[39m=\u001b[39m dt\n\u001b[0;32m     94\u001b[0m     mob\u001b[39m.\u001b[39mmatch_points(\n\u001b[1;32m---> 95\u001b[0m         Surface(\n\u001b[0;32m     96\u001b[0m             \u001b[39mlambda\u001b[39;00m u, v: np\u001b[39m.\u001b[39marray([u, v, \u001b[39mself\u001b[39m\u001b[39m.\u001b[39m_wave_z(u, v, \u001b[39mself\u001b[39m\u001b[39m.\u001b[39msources)]),\n\u001b[0;32m     97\u001b[0m             u_range\u001b[39m=\u001b[39m\u001b[39mself\u001b[39m\u001b[39m.\u001b[39mu_range,\n\u001b[0;32m     98\u001b[0m             v_range\u001b[39m=\u001b[39m\u001b[39mself\u001b[39m\u001b[39m.\u001b[39mv_range,\n\u001b[0;32m     99\u001b[0m             \u001b[39m*\u001b[39m\u001b[39m*\u001b[39m\u001b[39mself\u001b[39m\u001b[39m.\u001b[39mkwargs,\n\u001b[0;32m    100\u001b[0m         )\n\u001b[0;32m    101\u001b[0m     )\n",
      "File \u001b[1;32m~\\AppData\\Roaming\\Python\\Python310\\site-packages\\manim\\mobject\\three_d\\three_dimensions.py:128\u001b[0m, in \u001b[0;36mSurface.__init__\u001b[1;34m(self, func, u_range, v_range, resolution, surface_piece_config, fill_color, fill_opacity, checkerboard_colors, stroke_color, stroke_width, should_make_jagged, pre_function_handle_to_anchor_scale_factor, **kwargs)\u001b[0m\n\u001b[0;32m    124\u001b[0m \u001b[39mself\u001b[39m\u001b[39m.\u001b[39mpre_function_handle_to_anchor_scale_factor \u001b[39m=\u001b[39m (\n\u001b[0;32m    125\u001b[0m     pre_function_handle_to_anchor_scale_factor\n\u001b[0;32m    126\u001b[0m )\n\u001b[0;32m    127\u001b[0m \u001b[39mself\u001b[39m\u001b[39m.\u001b[39m_func \u001b[39m=\u001b[39m func\n\u001b[1;32m--> 128\u001b[0m \u001b[39mself\u001b[39;49m\u001b[39m.\u001b[39;49m_setup_in_uv_space()\n\u001b[0;32m    129\u001b[0m \u001b[39mself\u001b[39m\u001b[39m.\u001b[39mapply_function(\u001b[39mlambda\u001b[39;00m p: func(p[\u001b[39m0\u001b[39m], p[\u001b[39m1\u001b[39m]))\n\u001b[0;32m    130\u001b[0m \u001b[39mif\u001b[39;00m \u001b[39mself\u001b[39m\u001b[39m.\u001b[39mshould_make_jagged:\n",
      "File \u001b[1;32m~\\AppData\\Roaming\\Python\\Python310\\site-packages\\manim\\mobject\\three_d\\three_dimensions.py:178\u001b[0m, in \u001b[0;36mSurface._setup_in_uv_space\u001b[1;34m(self)\u001b[0m\n\u001b[0;32m    172\u001b[0m faces\u001b[39m.\u001b[39mset_fill(color\u001b[39m=\u001b[39m\u001b[39mself\u001b[39m\u001b[39m.\u001b[39mfill_color, opacity\u001b[39m=\u001b[39m\u001b[39mself\u001b[39m\u001b[39m.\u001b[39mfill_opacity)\n\u001b[0;32m    173\u001b[0m faces\u001b[39m.\u001b[39mset_stroke(\n\u001b[0;32m    174\u001b[0m     color\u001b[39m=\u001b[39m\u001b[39mself\u001b[39m\u001b[39m.\u001b[39mstroke_color,\n\u001b[0;32m    175\u001b[0m     width\u001b[39m=\u001b[39m\u001b[39mself\u001b[39m\u001b[39m.\u001b[39mstroke_width,\n\u001b[0;32m    176\u001b[0m     opacity\u001b[39m=\u001b[39m\u001b[39mself\u001b[39m\u001b[39m.\u001b[39mstroke_opacity,\n\u001b[0;32m    177\u001b[0m )\n\u001b[1;32m--> 178\u001b[0m \u001b[39mself\u001b[39;49m\u001b[39m.\u001b[39;49madd(\u001b[39m*\u001b[39;49mfaces)\n\u001b[0;32m    179\u001b[0m \u001b[39mif\u001b[39;00m \u001b[39mself\u001b[39m\u001b[39m.\u001b[39mcheckerboard_colors:\n\u001b[0;32m    180\u001b[0m     \u001b[39mself\u001b[39m\u001b[39m.\u001b[39mset_fill_by_checkerboard(\u001b[39m*\u001b[39m\u001b[39mself\u001b[39m\u001b[39m.\u001b[39mcheckerboard_colors)\n",
      "File \u001b[1;32m~\\AppData\\Roaming\\Python\\Python310\\site-packages\\manim\\mobject\\types\\vectorized_mobject.py:1902\u001b[0m, in \u001b[0;36mVGroup.add\u001b[1;34m(self, *vmobjects)\u001b[0m\n\u001b[0;32m   1900\u001b[0m \u001b[39mif\u001b[39;00m \u001b[39mnot\u001b[39;00m \u001b[39mall\u001b[39m(\u001b[39misinstance\u001b[39m(m, (VMobject, OpenGLVMobject)) \u001b[39mfor\u001b[39;00m m \u001b[39min\u001b[39;00m vmobjects):\n\u001b[0;32m   1901\u001b[0m     \u001b[39mraise\u001b[39;00m \u001b[39mTypeError\u001b[39;00m(\u001b[39m\"\u001b[39m\u001b[39mAll submobjects must be of type VMobject\u001b[39m\u001b[39m\"\u001b[39m)\n\u001b[1;32m-> 1902\u001b[0m \u001b[39mreturn\u001b[39;00m \u001b[39msuper\u001b[39;49m()\u001b[39m.\u001b[39;49madd(\u001b[39m*\u001b[39;49mvmobjects)\n",
      "File \u001b[1;32m~\\AppData\\Roaming\\Python\\Python310\\site-packages\\manim\\mobject\\mobject.py:433\u001b[0m, in \u001b[0;36mMobject.add\u001b[1;34m(self, *mobjects)\u001b[0m\n\u001b[0;32m    431\u001b[0m \u001b[39mif\u001b[39;00m m \u001b[39mis\u001b[39;00m \u001b[39mself\u001b[39m:\n\u001b[0;32m    432\u001b[0m     \u001b[39mraise\u001b[39;00m \u001b[39mValueError\u001b[39;00m(\u001b[39m\"\u001b[39m\u001b[39mMobject cannot contain self\u001b[39m\u001b[39m\"\u001b[39m)\n\u001b[1;32m--> 433\u001b[0m \u001b[39mif\u001b[39;00m \u001b[39many\u001b[39;49m(mobjects\u001b[39m.\u001b[39;49mcount(elem) \u001b[39m>\u001b[39;49m \u001b[39m1\u001b[39;49m \u001b[39mfor\u001b[39;49;00m elem \u001b[39min\u001b[39;49;00m mobjects):\n\u001b[0;32m    434\u001b[0m     logger\u001b[39m.\u001b[39mwarning(\n\u001b[0;32m    435\u001b[0m         \u001b[39m\"\u001b[39m\u001b[39mAttempted adding some Mobject as a child more than once, \u001b[39m\u001b[39m\"\u001b[39m\n\u001b[0;32m    436\u001b[0m         \u001b[39m\"\u001b[39m\u001b[39mthis is not possible. Repetitions are ignored.\u001b[39m\u001b[39m\"\u001b[39m,\n\u001b[0;32m    437\u001b[0m     )\n\u001b[0;32m    438\u001b[0m     mobjects \u001b[39m=\u001b[39m remove_list_redundancies(mobjects)\n",
      "File \u001b[1;32m~\\AppData\\Roaming\\Python\\Python310\\site-packages\\manim\\mobject\\mobject.py:433\u001b[0m, in \u001b[0;36m<genexpr>\u001b[1;34m(.0)\u001b[0m\n\u001b[0;32m    431\u001b[0m \u001b[39mif\u001b[39;00m m \u001b[39mis\u001b[39;00m \u001b[39mself\u001b[39m:\n\u001b[0;32m    432\u001b[0m     \u001b[39mraise\u001b[39;00m \u001b[39mValueError\u001b[39;00m(\u001b[39m\"\u001b[39m\u001b[39mMobject cannot contain self\u001b[39m\u001b[39m\"\u001b[39m)\n\u001b[1;32m--> 433\u001b[0m \u001b[39mif\u001b[39;00m \u001b[39many\u001b[39m(mobjects\u001b[39m.\u001b[39mcount(elem) \u001b[39m>\u001b[39m \u001b[39m1\u001b[39m \u001b[39mfor\u001b[39;00m elem \u001b[39min\u001b[39;00m mobjects):\n\u001b[0;32m    434\u001b[0m     logger\u001b[39m.\u001b[39mwarning(\n\u001b[0;32m    435\u001b[0m         \u001b[39m\"\u001b[39m\u001b[39mAttempted adding some Mobject as a child more than once, \u001b[39m\u001b[39m\"\u001b[39m\n\u001b[0;32m    436\u001b[0m         \u001b[39m\"\u001b[39m\u001b[39mthis is not possible. Repetitions are ignored.\u001b[39m\u001b[39m\"\u001b[39m,\n\u001b[0;32m    437\u001b[0m     )\n\u001b[0;32m    438\u001b[0m     mobjects \u001b[39m=\u001b[39m remove_list_redundancies(mobjects)\n",
      "\u001b[1;31mKeyboardInterrupt\u001b[0m: "
     ]
    }
   ],
   "source": [
    "%%manim -ql -v WARNING Waves\n",
    "\n",
    "class Waves(ThreeDScene):\n",
    "    def construct(self):\n",
    "        self.set_camera_orientation(60 * DEGREES, -45 * DEGREES)\n",
    "        wave = RadialWave(\n",
    "            LEFT * 2 + DOWN * 5,  # Two source of waves\n",
    "            RIGHT * 2 + DOWN * 5,\n",
    "            checkerboard_colors=[BLUE_D],\n",
    "            stroke_width=0,\n",
    "        )\n",
    "        self.add(wave)\n",
    "        wave.start_wave()\n",
    "        self.wait()\n",
    "        wave.stop_wave()"
   ]
  }
 ],
 "metadata": {
  "kernelspec": {
   "display_name": "Python 3",
   "language": "python",
   "name": "python3"
  },
  "language_info": {
   "codemirror_mode": {
    "name": "ipython",
    "version": 3
   },
   "file_extension": ".py",
   "mimetype": "text/x-python",
   "name": "python",
   "nbconvert_exporter": "python",
   "pygments_lexer": "ipython3",
   "version": "3.10.2 (tags/v3.10.2:a58ebcc, Jan 17 2022, 14:12:15) [MSC v.1929 64 bit (AMD64)]"
  },
  "orig_nbformat": 4,
  "vscode": {
   "interpreter": {
    "hash": "369f2c481f4da34e4445cda3fffd2e751bd1c4d706f27375911949ba6bb62e1c"
   }
  }
 },
 "nbformat": 4,
 "nbformat_minor": 2
}

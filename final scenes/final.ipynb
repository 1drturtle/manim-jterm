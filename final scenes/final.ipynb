{
 "cells": [
  {
   "cell_type": "code",
   "execution_count": 1,
   "metadata": {},
   "outputs": [],
   "source": [
    "%%capture install\n",
    "%pip install manim\n",
    "%pip install IPython --upgrade"
   ]
  },
  {
   "cell_type": "code",
   "execution_count": 1,
   "metadata": {},
   "outputs": [
    {
     "data": {
      "text/html": [
       "<pre style=\"white-space:pre;overflow-x:auto;line-height:normal;font-family:Menlo,'DejaVu Sans Mono',consolas,'Courier New',monospace\">Manim Community <span style=\"color: #008000; text-decoration-color: #008000\">v0.17.2</span>\n",
       "\n",
       "</pre>\n"
      ],
      "text/plain": [
       "Manim Community \u001b[32mv0.\u001b[0m\u001b[32m17.2\u001b[0m\n",
       "\n"
      ]
     },
     "metadata": {},
     "output_type": "display_data"
    }
   ],
   "source": [
    "from manim import *\n",
    "import numpy as np"
   ]
  },
  {
   "cell_type": "code",
   "execution_count": 2,
   "metadata": {},
   "outputs": [
    {
     "name": "stderr",
     "output_type": "stream",
     "text": [
      "                                                                                       \r"
     ]
    },
    {
     "data": {
      "text/html": [
       "<video src=\"media\\jupyter\\SierpinskiTriangle@2023-01-19@14-35-28.mp4\" controls autoplay loop style=\"max-width: 60%;\"  >\n",
       "      Your browser does not support the <code>video</code> element.\n",
       "    </video>"
      ],
      "text/plain": [
       "<IPython.core.display.Video object>"
      ]
     },
     "metadata": {},
     "output_type": "display_data"
    }
   ],
   "source": [
    "%%manim -qk -v WARNING SierpinskiTriangle\n",
    "\n",
    "PI = np.pi\n",
    "BASE_SIZE = 6\n",
    "MAX_DEPTH = 6\n",
    "\n",
    "DP_M_MAP = [[] for _ in range(MAX_DEPTH)]\n",
    "\n",
    "def split(a, n):\n",
    "    k, m = divmod(len(a), n)\n",
    "    return (a[i*k+min(i, m):(i+1)*k+min(i+1, m)] for i in range(n))\n",
    "\n",
    "class SierpinskiTriangle(Scene):\n",
    "\n",
    "    def play_animation_by_depth(self, klass, longest, dec, reverse=False):\n",
    "        iterator = DP_M_MAP\n",
    "        if reverse:\n",
    "            iterator = DP_M_MAP[::-1]\n",
    "        for ii, depth in enumerate(iterator):\n",
    "            if len(depth) == 1:\n",
    "                self.play(klass(depth[0]), runtime=longest)\n",
    "                continue\n",
    "            \n",
    "            rt = max(longest - dec*ii, 0.05)\n",
    "            if reverse:\n",
    "                rt = dec * (ii + 1)\n",
    "\n",
    "            chunks = list(split(depth, 3))\n",
    "            for i in range(len(chunks[0])):\n",
    "                animations = [klass(chunks[x][i]) for x in range(3)]\n",
    "                self.play(*animations, run_time=rt)\n",
    "\n",
    "    def draw_triangle(self, center, size):\n",
    "        side = size\n",
    "        height = (np.sqrt(3)/2) * side\n",
    "        bottom_left = center + (-side/2, -(height/2), 0)\n",
    "        bottom_right = center + (side/2, -(height/2), 0)\n",
    "        top = (0, height/2, 0)\n",
    "\n",
    "        t = Polygon(\n",
    "            bottom_left, bottom_right, top,\n",
    "            fill_color=BLUE,\n",
    "            fill_opacity=1.0\n",
    "        )\n",
    "\n",
    "        self.add(t)\n",
    "\n",
    "        return t\n",
    "\n",
    "    def recursive_triangle(self, center, depth, t):\n",
    "        if depth == MAX_DEPTH:\n",
    "            return\n",
    "\n",
    "        # step one: big triangle\n",
    "        # area = sqrt(3)/4 (side)^2\n",
    "        # height = sqrt(3)/4 * side\n",
    "\n",
    "        side = BASE_SIZE * ((1/2) ** depth)\n",
    "        height = (np.sqrt(3)/2) * side\n",
    "\n",
    "        # step two: middle triangle (empty out)\n",
    "        new_height = height / 2\n",
    "        new_side = side / 2\n",
    "        p = Polygon(\n",
    "            center + (new_side / 2, 0, 0),\n",
    "            center + (-new_side/2, 0, 0),\n",
    "            center + (0, -new_height, 0), \n",
    "            stroke_opacity=0.0, fill_opacity=1.0, fill_color=BLACK\n",
    "        )\n",
    "        DP_M_MAP[depth].append(p)\n",
    "        # self.play(FadeIn(p), run_time=0.05)\n",
    "\n",
    "        # Up\n",
    "        self.recursive_triangle(center + (UP * new_height/2), depth+1, t)\n",
    "        # Left-Down\n",
    "        self.recursive_triangle(center + (DOWN * new_height/2) + (LEFT * new_side/2), depth+1, t)\n",
    "        # Right-Down\n",
    "        self.recursive_triangle(center + (DOWN * new_height/2) + (RIGHT * new_side/2), depth+1, t)\n",
    "\n",
    "    def create_triangle(self, center, size):\n",
    "        t = self.draw_triangle(center, size)\n",
    "\n",
    "        self.recursive_triangle(np.array([0, 0, 0]), 0, t)\n",
    "\n",
    "        # fade in\n",
    "        self.play_animation_by_depth(Create, 1, 0.2)\n",
    "\n",
    "        # fade out\n",
    "        self.play_animation_by_depth(Uncreate, 1, 0.1, reverse=True)\n",
    "\n",
    "\n",
    "    def construct(self):\n",
    "        \n",
    "        t = Text(\n",
    "            \"Sierpiński triangle\",\n",
    "            font_size=16,\n",
    "            font=\"IBM Plex Mono\"\n",
    "        ).shift(LEFT*3 + UP*2)\n",
    "        t2 = Text(\n",
    "            \"A Sierpiński triangle is an equilateral\\ntriangle that is recursively divided\\ninto smaller triangles.\",\n",
    "            font_size=14,\n",
    "            font=\"IBM Plex Mono\"\n",
    "        ).shift(LEFT*3.5 + UP*1.5)\n",
    "\n",
    "        self.add(t, t2)\n",
    "\n",
    "        self.create_triangle(ORIGIN, BASE_SIZE)\n",
    "        self.wait()\n"
   ]
  }
 ],
 "metadata": {
  "kernelspec": {
   "display_name": "Python 3",
   "language": "python",
   "name": "python3"
  },
  "language_info": {
   "codemirror_mode": {
    "name": "ipython",
    "version": 3
   },
   "file_extension": ".py",
   "mimetype": "text/x-python",
   "name": "python",
   "nbconvert_exporter": "python",
   "pygments_lexer": "ipython3",
   "version": "3.10.2 (tags/v3.10.2:a58ebcc, Jan 17 2022, 14:12:15) [MSC v.1929 64 bit (AMD64)]"
  },
  "orig_nbformat": 4,
  "vscode": {
   "interpreter": {
    "hash": "369f2c481f4da34e4445cda3fffd2e751bd1c4d706f27375911949ba6bb62e1c"
   }
  }
 },
 "nbformat": 4,
 "nbformat_minor": 2
}

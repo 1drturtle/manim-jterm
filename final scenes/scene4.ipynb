{
 "cells": [
  {
   "cell_type": "code",
   "execution_count": null,
   "metadata": {},
   "outputs": [],
   "source": [
    "%%capture install\n",
    "%pip install manim\n",
    "%pip install IPython --upgrade"
   ]
  },
  {
   "cell_type": "code",
   "execution_count": 43,
   "metadata": {},
   "outputs": [],
   "source": [
    "from manim import *\n",
    "\n",
    "from manim_data_structures import *\n",
    "\n",
    "import numpy as np"
   ]
  },
  {
   "cell_type": "code",
   "execution_count": 77,
   "metadata": {},
   "outputs": [
    {
     "name": "stderr",
     "output_type": "stream",
     "text": [
      "                                                                                                                  \r"
     ]
    },
    {
     "data": {
      "text/html": [
       "<video src=\"media\\jupyter\\InsertionSort@2023-01-23@10-59-44.mp4\" controls autoplay loop style=\"max-width: 60%;\"  >\n",
       "      Your browser does not support the <code>video</code> element.\n",
       "    </video>"
      ],
      "text/plain": [
       "<IPython.core.display.Video object>"
      ]
     },
     "metadata": {},
     "output_type": "display_data"
    }
   ],
   "source": [
    "%%manim -qm -v WARNING InsertionSort\n",
    "\n",
    "class InsertionSort(Scene):\n",
    "\n",
    "    def swap_bubbles(self, arr, index1, index2):\n",
    "        arr_v = arr.fetch_arr()\n",
    "        v1 = arr_v[index1]\n",
    "        v2 = arr_v[index2]\n",
    "\n",
    "        old_color = arr.fetch_mob_arr()[0][0].fill_color\n",
    "\n",
    "        self.play(\n",
    "            arr.animate_elem_square(index1).set_fill(color=RED),\n",
    "            arr.animate_elem_square(index2).set_fill(color=GREEN),\n",
    "            run_time=0.5\n",
    "        )\n",
    "        \n",
    "        arr.update_elem_value(index1, v2, update_anim_args={\"run_time\":0.5})\n",
    "        arr.update_elem_value(index2, v1, update_anim_args={\"run_time\":0.5})\n",
    "\n",
    "        self.play(\n",
    "            arr.animate_elem_square(index1).set_fill(color=old_color),\n",
    "            arr.animate_elem_square(index2).set_fill(color=old_color),\n",
    "            self.swap_tracker.animate.increment_value(1),\n",
    "            run_time=0.5\n",
    "        )\n",
    "    \n",
    "    def shift_pointer(self, pointer, idx):\n",
    "        self.play(pointer.shift_to_elem(idx, play_anim=False), run_time=0.25)\n",
    "\n",
    "    def run_insertion_sort(self, arr):\n",
    "        n = len(arr.fetch_arr())\n",
    "\n",
    "        window = MArraySlidingWindow(self, arr, 0, 1)\n",
    "        self.play(Create(window))\n",
    "\n",
    "        t = Text(\n",
    "            \"Insertion Sort\",\n",
    "            font_size=30,\n",
    "            font=\"IBM Plex Mono\"\n",
    "        ).shift(UP*3 + LEFT*4.5)\n",
    "\n",
    "        self.play(Write(t))\n",
    "\n",
    "        self.wait(1)\n",
    "\n",
    "        swap_osc_var = Variable(0, Text(\"Swaps\", font=\"IBM Plex Mono\", font_size=30), var_type=Integer)\n",
    "        swap_osc_var.shift(UP*2 + LEFT*5)\n",
    "        self.swap_tracker = swap_osc_var.tracker\n",
    "        self.play(Write(swap_osc_var))\n",
    "\n",
    "        i_ptr = MArrayPointer(self, arr, 1, label='i')\n",
    "        self.play(Create(i_ptr))\n",
    "        j_ptr = MArrayPointer(self, arr, 1, label='j', pointer_pos=MArrayDirection.UP, arrow_gap=1)\n",
    "        j_created = False\n",
    "\n",
    "        i = 1\n",
    "        while i < n:\n",
    "            if not j_created:\n",
    "                j_created = True\n",
    "                self.play(Create(j_ptr))\n",
    "            j = i\n",
    "            self.shift_pointer(j_ptr, j)\n",
    "            while j > 0 and (arr.fetch_arr()[j - 1] > arr.fetch_arr()[j]):\n",
    "                self.swap_bubbles(arr, j-1, j)\n",
    "                j -= 1\n",
    "                self.shift_pointer(j_ptr, j)\n",
    "            i += 1\n",
    "            if i < n:\n",
    "                window.resize_window(i)\n",
    "                self.shift_pointer(i_ptr, i)\n",
    "        \n",
    "        self.play(FadeOut(j_ptr), FadeOut(window), FadeOut(i_ptr))\n",
    "\n",
    "\n",
    "\n",
    "    def construct(self):\n",
    "        arr = MArray(self, [7, 3, 8, 4, 1], label='Array').shift(LEFT * 2)\n",
    "        self.play(Create(arr))\n",
    "\n",
    "        self.run_insertion_sort(arr)\n",
    "        \n",
    "        self.wait(5)"
   ]
  }
 ],
 "metadata": {
  "kernelspec": {
   "display_name": "Python 3",
   "language": "python",
   "name": "python3"
  },
  "language_info": {
   "codemirror_mode": {
    "name": "ipython",
    "version": 3
   },
   "file_extension": ".py",
   "mimetype": "text/x-python",
   "name": "python",
   "nbconvert_exporter": "python",
   "pygments_lexer": "ipython3",
   "version": "3.10.2"
  },
  "orig_nbformat": 4,
  "vscode": {
   "interpreter": {
    "hash": "369f2c481f4da34e4445cda3fffd2e751bd1c4d706f27375911949ba6bb62e1c"
   }
  }
 },
 "nbformat": 4,
 "nbformat_minor": 2
}

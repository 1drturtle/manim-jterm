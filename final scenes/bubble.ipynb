{
 "cells": [
  {
   "cell_type": "code",
   "execution_count": 4,
   "metadata": {},
   "outputs": [],
   "source": [
    "%%capture install\n",
    "%pip install manim manim-data-structures\n",
    "%pip install IPython --upgrade"
   ]
  },
  {
   "cell_type": "code",
   "execution_count": 1,
   "metadata": {},
   "outputs": [
    {
     "data": {
      "text/html": [
       "<pre style=\"white-space:pre;overflow-x:auto;line-height:normal;font-family:Menlo,'DejaVu Sans Mono',consolas,'Courier New',monospace\">Manim Community <span style=\"color: #008000; text-decoration-color: #008000\">v0.17.2</span>\n",
       "\n",
       "</pre>\n"
      ],
      "text/plain": [
       "Manim Community \u001b[32mv0.\u001b[0m\u001b[32m17.2\u001b[0m\n",
       "\n"
      ]
     },
     "metadata": {},
     "output_type": "display_data"
    }
   ],
   "source": [
    "from manim import *\n",
    "from manim_data_structures import *\n",
    "\n",
    "import numpy as np"
   ]
  },
  {
   "cell_type": "code",
   "execution_count": 3,
   "metadata": {},
   "outputs": [
    {
     "name": "stderr",
     "output_type": "stream",
     "text": [
      "                                                                                                                \r"
     ]
    },
    {
     "data": {
      "text/html": [
       "<video src=\"media\\jupyter\\BubbleSort@2023-01-23@10-58-24.mp4\" controls autoplay loop style=\"max-width: 60%;\"  >\n",
       "      Your browser does not support the <code>video</code> element.\n",
       "    </video>"
      ],
      "text/plain": [
       "<IPython.core.display.Video object>"
      ]
     },
     "metadata": {},
     "output_type": "display_data"
    }
   ],
   "source": [
    "%%manim -qm -v WARNING BubbleSort\n",
    "\n",
    "class BubbleSort(Scene):\n",
    "\n",
    "    def swap_bubbles(self, arr, index1, index2):\n",
    "        arr_v = arr.fetch_arr()\n",
    "        v1 = arr_v[index1]\n",
    "        v2 = arr_v[index2]\n",
    "\n",
    "        old_color = arr.fetch_mob_arr()[0][0].fill_color\n",
    "\n",
    "        self.play(\n",
    "            arr.animate_elem_square(index1).set_fill(color=RED),\n",
    "            arr.animate_elem_square(index2).set_fill(color=GREEN),\n",
    "            run_time=0.5\n",
    "        )\n",
    "        \n",
    "        arr.update_elem_value(index1, v2, update_anim_args={\"run_time\":0.5})\n",
    "        arr.update_elem_value(index2, v1, update_anim_args={\"run_time\":0.5})\n",
    "\n",
    "        self.play(\n",
    "            arr.animate_elem_square(index1).set_fill(color=old_color),\n",
    "            arr.animate_elem_square(index2).set_fill(color=old_color),\n",
    "            run_time=0.5\n",
    "        )\n",
    "\n",
    "    def move_elems(self, win, p, index):\n",
    "        self.play(\n",
    "            p.shift_to_elem(index, play_anim=False),\n",
    "            win.shift_to_elem(index, play_anim=False),\n",
    "            run_time=0.5\n",
    "        )\n",
    "    \n",
    "    def construct(self):\n",
    "        arr = MArray(self, [5,4,3,2,1], label='Array').shift(LEFT * 2)\n",
    "        self.play(Create(arr))\n",
    "        n = len(arr.fetch_arr())\n",
    "\n",
    "        window = MArraySlidingWindow(self, arr, 0, 2)\n",
    "        self.play(Create(window))\n",
    "\n",
    "        j_ptr = MArrayPointer(self, arr, 0, 'j')\n",
    "        i_ptr = MArrayPointer(self, arr, n - 1, 'i')\n",
    "        self.play(Create(j_ptr))\n",
    "\n",
    "        t = Text(\n",
    "            \"Bubble Sort\",\n",
    "            font_size=30,\n",
    "            font=\"IBM Plex Mono\"\n",
    "        ).shift(UP*2)\n",
    "\n",
    "        self.play(Write(t))\n",
    "\n",
    "        self.wait(1)\n",
    "\n",
    "        swap_osc_var = Variable(0, Text(\"Swaps\", font=\"IBM Plex Mono\", font_size=28), var_type=Integer)\n",
    "        swap_osc_var.shift(DOWN + LEFT*4)\n",
    "        swap_tracker = swap_osc_var.tracker\n",
    "        self.play(Write(swap_osc_var))\n",
    "\n",
    "        for i in range(n - 1):\n",
    "            if (i != 0):\n",
    "                i_ptr.shift_to_elem(n - i)\n",
    "            for j in range(0, n - i - 1):\n",
    "                self.move_elems(window, j_ptr, j)\n",
    "                a = arr.fetch_arr()\n",
    "                if a[j] > a[j + 1]:\n",
    "                    self.swap_bubbles(arr, j, j+1)\n",
    "                    self.play(swap_tracker.animate.increment_value(1), run_time=0.2)\n",
    "\n",
    "        self.play(FadeOut(j_ptr), FadeOut(window), FadeOut(i_ptr))\n",
    "\n",
    "        self.wait(1)"
   ]
  }
 ],
 "metadata": {
  "kernelspec": {
   "display_name": "Python 3",
   "language": "python",
   "name": "python3"
  },
  "language_info": {
   "codemirror_mode": {
    "name": "ipython",
    "version": 3
   },
   "file_extension": ".py",
   "mimetype": "text/x-python",
   "name": "python",
   "nbconvert_exporter": "python",
   "pygments_lexer": "ipython3",
   "version": "3.10.2"
  },
  "orig_nbformat": 4,
  "vscode": {
   "interpreter": {
    "hash": "369f2c481f4da34e4445cda3fffd2e751bd1c4d706f27375911949ba6bb62e1c"
   }
  }
 },
 "nbformat": 4,
 "nbformat_minor": 2
}

{
 "cells": [
  {
   "cell_type": "code",
   "execution_count": 7,
   "metadata": {},
   "outputs": [],
   "source": [
    "%%capture install\n",
    "%pip install manim\n",
    "%pip install IPython --upgrade"
   ]
  },
  {
   "cell_type": "code",
   "execution_count": 1,
   "metadata": {},
   "outputs": [
    {
     "data": {
      "text/html": [
       "<pre style=\"white-space:pre;overflow-x:auto;line-height:normal;font-family:Menlo,'DejaVu Sans Mono',consolas,'Courier New',monospace\">Manim Community <span style=\"color: #008000; text-decoration-color: #008000\">v0.17.2</span>\n",
       "\n",
       "</pre>\n"
      ],
      "text/plain": [
       "Manim Community \u001b[32mv0.\u001b[0m\u001b[32m17.2\u001b[0m\n",
       "\n"
      ]
     },
     "metadata": {},
     "output_type": "display_data"
    }
   ],
   "source": [
    "from manim import *\n",
    "import numpy as np"
   ]
  },
  {
   "cell_type": "code",
   "execution_count": 26,
   "metadata": {},
   "outputs": [
    {
     "name": "stderr",
     "output_type": "stream",
     "text": [
      "                                                                                                    \r"
     ]
    },
    {
     "data": {
      "text/html": [
       "<video src=\"media\\jupyter\\MakingWater@2023-01-17@11-50-28.mp4\" controls autoplay loop style=\"max-width: 60%;\"  >\n",
       "      Your browser does not support the <code>video</code> element.\n",
       "    </video>"
      ],
      "text/plain": [
       "<IPython.core.display.Video object>"
      ]
     },
     "metadata": {},
     "output_type": "display_data"
    }
   ],
   "source": [
    "%%manim -qm -v WARNING MakingWater\n",
    "\n",
    "PI = np.pi\n",
    "\n",
    "class MakingWater(Scene):\n",
    "   def construct(self):\n",
    "      axes = Axes(\n",
    "         x_range=[-PI*2, PI*2, PI/4],\n",
    "         y_range=[-2, 2, 1],\n",
    "         axis_config={\"color\": GREEN},\n",
    "         tips=False,\n",
    "      )\n",
    "\n",
    "      sin_func = lambda x: np.sin(x)\n",
    "      sin_graph = axes.plot(sin_func)\n",
    "\n",
    "      text = MathTex(r\"sin(x) \\text{ from } [-2\\pi, 2\\pi]\").shift((-3, 2, 0))\n",
    "\n",
    "      t = ValueTracker(-PI * 2)\n",
    "\n",
    "      start_point = [axes.coords_to_point(t.get_value(), sin_func(t.get_value()))]\n",
    "\n",
    "      point = Dot(point=start_point, color=BLUE_D)\n",
    "      point.add_updater(\n",
    "         lambda x: x.move_to(axes.c2p(t.get_value(), sin_func(t.get_value())))\n",
    "      )\n",
    "\n",
    "      self.add(axes, sin_graph, point, text)\n",
    "      self.play(t.animate.set_value(PI * 2), point.animate.set_fill(RED), run_time=5)\n",
    "\n",
    "      self.wait()"
   ]
  },
  {
   "cell_type": "code",
   "execution_count": 46,
   "metadata": {},
   "outputs": [
    {
     "name": "stderr",
     "output_type": "stream",
     "text": [
      "                                                                                         \r"
     ]
    },
    {
     "data": {
      "text/html": [
       "<video src=\"media\\jupyter\\NewImage@2023-01-17@12-00-54.mp4\" controls autoplay loop style=\"max-width: 60%;\"  >\n",
       "      Your browser does not support the <code>video</code> element.\n",
       "    </video>"
      ],
      "text/plain": [
       "<IPython.core.display.Video object>"
      ]
     },
     "metadata": {},
     "output_type": "display_data"
    }
   ],
   "source": [
    "%%manim -qm -v WARNING NewImage\n",
    "\n",
    "class NewImage(Scene):\n",
    "   def construct(self):\n",
    "      self.camera.background_color=WHITE\n",
    "\n",
    "      image = ImageMobject(\"catt.png\")\n",
    "\n",
    "      self.add(image)\n",
    "\n",
    "      self.play(image.animate.scale(2))\n",
    "\n",
    "      txt = MarkupText(\"Hello\", color=BLACK).shift(RIGHT*20)\n",
    "\n",
    "      self.add(txt)\n",
    "\n",
    "      self.play(txt.animate.shift(LEFT*17))\n",
    "\n",
    "      self.play(Rotate(image, angle=2*PI))\n",
    "\n",
    "      self.wait()\n"
   ]
  },
  {
   "cell_type": "code",
   "execution_count": 20,
   "metadata": {},
   "outputs": [
    {
     "name": "stdout",
     "output_type": "stream",
     "text": [
      "8\n"
     ]
    },
    {
     "name": "stderr",
     "output_type": "stream",
     "text": [
      "                                                                  \r"
     ]
    },
    {
     "data": {
      "text/html": [
       "<video src=\"media\\jupyter\\WheelGraph@2023-01-17@14-14-20.mp4\" controls autoplay loop style=\"max-width: 60%;\"  >\n",
       "      Your browser does not support the <code>video</code> element.\n",
       "    </video>"
      ],
      "text/plain": [
       "<IPython.core.display.Video object>"
      ]
     },
     "metadata": {},
     "output_type": "display_data"
    }
   ],
   "source": [
    "%%manim -qm -v WARNING WheelGraph\n",
    "\n",
    "import itertools\n",
    "\n",
    "class WheelGraph(Scene):\n",
    "   def construct(self):\n",
    "      points = [\n",
    "         (0, 0, 0),\n",
    "         (1, 0, 0),\n",
    "         (-1, 0, 0),\n",
    "         (0, 1, 0),\n",
    "         (0, -1, 0)\n",
    "      ]\n",
    "\n",
    "      lines = list(itertools.combinations(points, 2))\n",
    "\n",
    "      # take out left -> right and top -> bottom\n",
    "      bad = (((1, 0, 0), (-1, 0, 0)), ((0, 1, 0), (0, -1, 0)))\n",
    "      lines = [x for x in lines if x not in bad]\n",
    "\n",
    "      print(len(lines))\n",
    "\n",
    "      mob_points = []\n",
    "      mob_lines = []\n",
    "\n",
    "      for point in points:\n",
    "         x = Dot(point, color=GREEN)\n",
    "         mob_points.append(x)\n",
    "         self.play(Create(x))\n",
    "\n",
    "      for line in lines:\n",
    "         x = Line(line[0], line[1])\n",
    "         mob_lines.append(x)\n",
    "         self.play(Create(x))\n",
    "\n",
    "      for point in mob_points:\n",
    "         self.play(Indicate(point, color=BLUE_D, size=10))\n",
    "         self.wait(0.05)\n",
    "\n",
    "      self.wait()"
   ]
  },
  {
   "cell_type": "code",
   "execution_count": 39,
   "metadata": {},
   "outputs": [
    {
     "name": "stderr",
     "output_type": "stream",
     "text": [
      "                                                                                                       \r"
     ]
    },
    {
     "data": {
      "text/html": [
       "<video src=\"media\\jupyter\\BetterWheelGraph@2023-01-17@14-25-52.mp4\" controls autoplay loop style=\"max-width: 60%;\"  >\n",
       "      Your browser does not support the <code>video</code> element.\n",
       "    </video>"
      ],
      "text/plain": [
       "<IPython.core.display.Video object>"
      ]
     },
     "metadata": {},
     "output_type": "display_data"
    }
   ],
   "source": [
    "%%manim -qm -v WARNING BetterWheelGraph\n",
    "\n",
    "import itertools\n",
    "\n",
    "class BetterWheelGraph(Scene):\n",
    "\n",
    "    def generate_vertices(self, n):\n",
    "        return [i for i in range(n)]\n",
    "\n",
    "    def generate_edges(self, n):\n",
    "        edges = [(1, n - 1)]\n",
    "\n",
    "        # Generate outer cycles\n",
    "        for i in range(1, n - 1):\n",
    "            edges.append((i, i + 1))\n",
    "\n",
    "        # Generate \"spokes\"\n",
    "        for i in range(1, n):\n",
    "            edges.append((0, i))\n",
    "\n",
    "        return edges\n",
    "\n",
    "    def construct(self):\n",
    "\n",
    "        g = Graph(\n",
    "            vertices=self.generate_vertices(5),\n",
    "            edges=self.generate_edges(5),\n",
    "            layout=\"kamada_kawai\").scale(1.5)\n",
    "        self.play(Create(g))\n",
    "\n",
    "        for k, v in g.vertices.items():\n",
    "            self.play(Indicate(v, color=BLUE_D, size=10))\n",
    "            self.wait(0.05)\n",
    "\n",
    "        self.play(Rotate(g, PI*2))\n",
    "\n",
    "        self.play(FadeOut(g, shift=DOWN*2))\n",
    "\n",
    "        self.wait()\n"
   ]
  }
 ],
 "metadata": {
  "kernelspec": {
   "display_name": "Python 3",
   "language": "python",
   "name": "python3"
  },
  "language_info": {
   "codemirror_mode": {
    "name": "ipython",
    "version": 3
   },
   "file_extension": ".py",
   "mimetype": "text/x-python",
   "name": "python",
   "nbconvert_exporter": "python",
   "pygments_lexer": "ipython3",
   "version": "3.10.2"
  },
  "orig_nbformat": 4,
  "vscode": {
   "interpreter": {
    "hash": "369f2c481f4da34e4445cda3fffd2e751bd1c4d706f27375911949ba6bb62e1c"
   }
  }
 },
 "nbformat": 4,
 "nbformat_minor": 2
}

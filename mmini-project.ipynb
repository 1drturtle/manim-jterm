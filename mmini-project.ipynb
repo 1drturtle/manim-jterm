{
 "cells": [
  {
   "cell_type": "code",
   "execution_count": 16,
   "metadata": {},
   "outputs": [],
   "source": [
    "%%capture install\n",
    "%pip install manim manim-physics\n",
    "%pip install IPython --upgrade"
   ]
  },
  {
   "cell_type": "code",
   "execution_count": 1,
   "metadata": {},
   "outputs": [
    {
     "data": {
      "text/html": [
       "<pre style=\"white-space:pre;overflow-x:auto;line-height:normal;font-family:Menlo,'DejaVu Sans Mono',consolas,'Courier New',monospace\">Manim Community <span style=\"color: #008000; text-decoration-color: #008000\">v0.17.2</span>\n",
       "\n",
       "</pre>\n"
      ],
      "text/plain": [
       "Manim Community \u001b[32mv0.\u001b[0m\u001b[32m17.2\u001b[0m\n",
       "\n"
      ]
     },
     "metadata": {},
     "output_type": "display_data"
    }
   ],
   "source": [
    "from manim import *\n",
    "from manim_physics import *\n",
    "import numpy as np"
   ]
  },
  {
   "cell_type": "code",
   "execution_count": 42,
   "metadata": {},
   "outputs": [
    {
     "name": "stderr",
     "output_type": "stream",
     "text": [
      "                                                                                                                                   \r"
     ]
    },
    {
     "data": {
      "text/html": [
       "<video src=\"media\\jupyter\\SceneOne@2023-01-18@14-49-29.mp4\" controls autoplay loop style=\"max-width: 60%;\"  >\n",
       "      Your browser does not support the <code>video</code> element.\n",
       "    </video>"
      ],
      "text/plain": [
       "<IPython.core.display.Video object>"
      ]
     },
     "metadata": {},
     "output_type": "display_data"
    }
   ],
   "source": [
    "%%manim -qh -v WARNING SceneOne\n",
    "\n",
    "X_VEL = 5\n",
    "\n",
    "def calculate_y_vel(theta, x_vel):\n",
    "    return np.arctan(theta) * x_vel\n",
    "\n",
    "class SceneOne(SpaceScene):\n",
    "\n",
    "    def launch_ball(self, theta, wait, x_vel=X_VEL):\n",
    "        ball = Circle(\n",
    "            radius=0.2,\n",
    "            color=BLUE_C,\n",
    "            fill_opacity=1.0\n",
    "        ).move_to((-5, 1, 0))\n",
    "        self.play(FadeIn(ball))\n",
    "\n",
    "        self.make_rigid_body(ball)\n",
    "        \n",
    "        ball.body.velocity = (x_vel, calculate_y_vel(theta, x_vel))\n",
    "\n",
    "        self.wait(wait)\n",
    "\n",
    "        self.remove(ball)\n",
    "\n",
    "    def construct(self):\n",
    "        ground = Line([-8, -3.5, 0], [8, -3.5, 0])\n",
    "        self.add(ground)\n",
    "\n",
    "        self.make_static_body(ground)  # Mobjects will stay in place\n",
    "\n",
    "        # one\n",
    "\n",
    "        text = Tex(r\"\\text{Ball Launch: } 0 rad\").move_to([0, 2, 0])\n",
    "        self.play(Write(text))\n",
    "\n",
    "        self.launch_ball(0, 5)\n",
    "\n",
    "        self.play(Unwrite(text))\n",
    "\n",
    "        # two\n",
    "\n",
    "        text = MathTex(r\"\\text{Ball Launch: } \\frac{ \\pi }{4} \\, rad\").move_to([0, 2, 0])\n",
    "        self.play(Write(text))\n",
    "\n",
    "        self.launch_ball(PI/4, 5)\n",
    "\n",
    "        self.play(Unwrite(text))\n",
    "\n",
    "        # three\n",
    "\n",
    "        text = MathTex(r\"\\text{Ball Wall Launch: } 0 \\, rad\").move_to([0, 2, 0])\n",
    "        self.play(Write(text))\n",
    "\n",
    "        wall = Line([6, -5, 0], [6, 100, 0])\n",
    "        self.play(Create(wall))\n",
    "        self.make_static_body(wall)\n",
    "\n",
    "        self.launch_ball(PI/4, 8)\n",
    "\n",
    "        self.play(Unwrite(text))\n",
    "\n",
    "        # four\n",
    "\n",
    "        text = MathTex(r\"\\text{Ball 2 Wall Fast Launch: } 0 \\, rad\").move_to([0, 2, 0])\n",
    "        self.play(Write(text))\n",
    "\n",
    "        wall2 = Line([-6, -5, 0], [-6, 100, 0])\n",
    "        self.play(Create(wall2))\n",
    "        self.make_static_body(wall2)\n",
    "\n",
    "        self.launch_ball(0, 10, x_vel=15)\n",
    "\n",
    "        self.play(Unwrite(text), run_time=0.5)\n",
    "\n",
    "        walls = VGroup(wall, wall2)\n",
    "        self.play(FadeOut(walls))\n"
   ]
  }
 ],
 "metadata": {
  "kernelspec": {
   "display_name": "Python 3",
   "language": "python",
   "name": "python3"
  },
  "language_info": {
   "codemirror_mode": {
    "name": "ipython",
    "version": 3
   },
   "file_extension": ".py",
   "mimetype": "text/x-python",
   "name": "python",
   "nbconvert_exporter": "python",
   "pygments_lexer": "ipython3",
   "version": "3.10.2"
  },
  "orig_nbformat": 4,
  "vscode": {
   "interpreter": {
    "hash": "369f2c481f4da34e4445cda3fffd2e751bd1c4d706f27375911949ba6bb62e1c"
   }
  }
 },
 "nbformat": 4,
 "nbformat_minor": 2
}

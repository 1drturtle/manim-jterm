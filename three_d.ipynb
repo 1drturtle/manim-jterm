{
 "cells": [
  {
   "cell_type": "code",
   "execution_count": null,
   "metadata": {},
   "outputs": [],
   "source": [
    "%%capture install\n",
    "%pip install manim\n",
    "%pip install IPython --upgrade"
   ]
  },
  {
   "cell_type": "code",
   "execution_count": 2,
   "metadata": {},
   "outputs": [
    {
     "data": {
      "text/html": [
       "<pre style=\"white-space:pre;overflow-x:auto;line-height:normal;font-family:Menlo,'DejaVu Sans Mono',consolas,'Courier New',monospace\">Manim Community <span style=\"color: #008000; text-decoration-color: #008000\">v0.17.2</span>\n",
       "\n",
       "</pre>\n"
      ],
      "text/plain": [
       "Manim Community \u001b[32mv0.\u001b[0m\u001b[32m17.2\u001b[0m\n",
       "\n"
      ]
     },
     "metadata": {},
     "output_type": "display_data"
    }
   ],
   "source": [
    "from manim import *\n",
    "import numpy as np"
   ]
  },
  {
   "cell_type": "code",
   "execution_count": 1,
   "metadata": {},
   "outputs": [
    {
     "name": "stderr",
     "output_type": "stream",
     "text": [
      "UsageError: Cell magic `%%manim` not found.\n"
     ]
    }
   ],
   "source": [
    "%%manim -ql -v WARNING ThreeD\n",
    "\n",
    "class ThreeD(ThreeDScene):\n",
    "    def construct(self):\n",
    "        axes = ThreeDAxes()\n",
    "        self.set_camera_orientation(phi=75 * DEGREES, theta=-45 * DEGREES)\n",
    "        text3d = Text(\"Sphere!\")\n",
    "        self.add_fixed_in_frame_mobjects(text3d)\n",
    "        text3d.to_corner(UL)\n",
    "        self.add(axes)\n",
    "\n",
    "        self.begin_ambient_camera_rotation(rate=0.1)\n",
    "\n",
    "        sphere = Sphere(radius=0.2)\n",
    "\n",
    "        x_tracker = ValueTracker(0)\n",
    "        y_tracker = ValueTracker(0)\n",
    "        z_tracker = ValueTracker(0)\n",
    "\n",
    "        self.add(sphere)\n",
    "\n",
    "        c = Circle(\n",
    "            radius=5, color=BLUE, stroke_opacity=0.0\n",
    "        ).move_to((0,0,0))\n",
    "\n",
    "        self.add(c)\n",
    "\n",
    "        self.wait()\n",
    "\n",
    "        self.play(sphere.animate.move_to((5,0,0)))\n",
    "\n",
    "        self.play(c.animate.shift(UP), MoveAlongPath(sphere, c), run_time=5, rate_func=linear)\n",
    "\n",
    "        self.play(sphere.animate.move_to(0,0,0))\n",
    "\n",
    "        "
   ]
  }
 ],
 "metadata": {
  "kernelspec": {
   "display_name": "Python 3",
   "language": "python",
   "name": "python3"
  },
  "language_info": {
   "codemirror_mode": {
    "name": "ipython",
    "version": 3
   },
   "file_extension": ".py",
   "mimetype": "text/x-python",
   "name": "python",
   "nbconvert_exporter": "python",
   "pygments_lexer": "ipython3",
   "version": "3.10.2"
  },
  "orig_nbformat": 4,
  "vscode": {
   "interpreter": {
    "hash": "369f2c481f4da34e4445cda3fffd2e751bd1c4d706f27375911949ba6bb62e1c"
   }
  }
 },
 "nbformat": 4,
 "nbformat_minor": 2
}
